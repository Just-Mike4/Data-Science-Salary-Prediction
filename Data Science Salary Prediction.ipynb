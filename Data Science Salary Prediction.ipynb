{
 "cells": [
  {
   "cell_type": "markdown",
   "id": "b33a8746",
   "metadata": {},
   "source": [
    "# Data Science Salary Prediction "
   ]
  },
  {
   "cell_type": "markdown",
   "id": "41ec02d0",
   "metadata": {},
   "source": [
    "### Import Useful Libraries"
   ]
  },
  {
   "cell_type": "code",
   "execution_count": 102,
   "id": "4b856949",
   "metadata": {},
   "outputs": [],
   "source": [
    "import numpy as np\n",
    "import pandas as pd\n",
    "import matplotlib.pyplot as plt\n",
    "import seaborn as sns\n",
    "from sklearn.model_selection import train_test_split\n",
    "from sklearn.linear_model import LinearRegression\n",
    "from sklearn.metrics import mean_squared_error\n",
    "from sklearn.feature_selection import mutual_info_regression "
   ]
  },
  {
   "cell_type": "markdown",
   "id": "9f3adca8",
   "metadata": {},
   "source": [
    "### Read the data"
   ]
  },
  {
   "cell_type": "code",
   "execution_count": 103,
   "id": "a156fa67",
   "metadata": {},
   "outputs": [],
   "source": [
    "data=pd.read_csv('/Users/joshuaodugbemi/Downloads/Datasets/datascience_salaries.csv',index_col=False)"
   ]
  },
  {
   "cell_type": "markdown",
   "id": "2cd6df99",
   "metadata": {},
   "source": [
    "### Expository data analysis and visualizations"
   ]
  },
  {
   "cell_type": "code",
   "execution_count": 104,
   "id": "d5d056ae",
   "metadata": {},
   "outputs": [
    {
     "data": {
      "text/html": [
       "<div>\n",
       "<style scoped>\n",
       "    .dataframe tbody tr th:only-of-type {\n",
       "        vertical-align: middle;\n",
       "    }\n",
       "\n",
       "    .dataframe tbody tr th {\n",
       "        vertical-align: top;\n",
       "    }\n",
       "\n",
       "    .dataframe thead th {\n",
       "        text-align: right;\n",
       "    }\n",
       "</style>\n",
       "<table border=\"1\" class=\"dataframe\">\n",
       "  <thead>\n",
       "    <tr style=\"text-align: right;\">\n",
       "      <th></th>\n",
       "      <th>Unnamed: 0</th>\n",
       "      <th>job_title</th>\n",
       "      <th>job_type</th>\n",
       "      <th>experience_level</th>\n",
       "      <th>location</th>\n",
       "      <th>salary_currency</th>\n",
       "      <th>salary</th>\n",
       "    </tr>\n",
       "  </thead>\n",
       "  <tbody>\n",
       "    <tr>\n",
       "      <th>0</th>\n",
       "      <td>0</td>\n",
       "      <td>Data scientist</td>\n",
       "      <td>Full Time</td>\n",
       "      <td>Senior</td>\n",
       "      <td>New York City</td>\n",
       "      <td>USD</td>\n",
       "      <td>149000</td>\n",
       "    </tr>\n",
       "    <tr>\n",
       "      <th>1</th>\n",
       "      <td>2</td>\n",
       "      <td>Data scientist</td>\n",
       "      <td>Full Time</td>\n",
       "      <td>Senior</td>\n",
       "      <td>Boston</td>\n",
       "      <td>USD</td>\n",
       "      <td>120000</td>\n",
       "    </tr>\n",
       "    <tr>\n",
       "      <th>2</th>\n",
       "      <td>3</td>\n",
       "      <td>Data scientist</td>\n",
       "      <td>Full Time</td>\n",
       "      <td>Senior</td>\n",
       "      <td>London</td>\n",
       "      <td>USD</td>\n",
       "      <td>68000</td>\n",
       "    </tr>\n",
       "    <tr>\n",
       "      <th>3</th>\n",
       "      <td>4</td>\n",
       "      <td>Data scientist</td>\n",
       "      <td>Full Time</td>\n",
       "      <td>Senior</td>\n",
       "      <td>Boston</td>\n",
       "      <td>USD</td>\n",
       "      <td>120000</td>\n",
       "    </tr>\n",
       "    <tr>\n",
       "      <th>4</th>\n",
       "      <td>5</td>\n",
       "      <td>Data scientist</td>\n",
       "      <td>Full Time</td>\n",
       "      <td>Senior</td>\n",
       "      <td>New York City</td>\n",
       "      <td>USD</td>\n",
       "      <td>149000</td>\n",
       "    </tr>\n",
       "  </tbody>\n",
       "</table>\n",
       "</div>"
      ],
      "text/plain": [
       "   Unnamed: 0       job_title   job_type experience_level       location  \\\n",
       "0           0  Data scientist  Full Time           Senior  New York City   \n",
       "1           2  Data scientist  Full Time           Senior         Boston   \n",
       "2           3  Data scientist  Full Time           Senior         London   \n",
       "3           4  Data scientist  Full Time           Senior         Boston   \n",
       "4           5  Data scientist  Full Time           Senior  New York City   \n",
       "\n",
       "  salary_currency  salary  \n",
       "0             USD  149000  \n",
       "1             USD  120000  \n",
       "2             USD   68000  \n",
       "3             USD  120000  \n",
       "4             USD  149000  "
      ]
     },
     "execution_count": 104,
     "metadata": {},
     "output_type": "execute_result"
    }
   ],
   "source": [
    "data.head()"
   ]
  },
  {
   "cell_type": "code",
   "execution_count": 105,
   "id": "b26fe951",
   "metadata": {},
   "outputs": [
    {
     "data": {
      "text/html": [
       "<div>\n",
       "<style scoped>\n",
       "    .dataframe tbody tr th:only-of-type {\n",
       "        vertical-align: middle;\n",
       "    }\n",
       "\n",
       "    .dataframe tbody tr th {\n",
       "        vertical-align: top;\n",
       "    }\n",
       "\n",
       "    .dataframe thead th {\n",
       "        text-align: right;\n",
       "    }\n",
       "</style>\n",
       "<table border=\"1\" class=\"dataframe\">\n",
       "  <thead>\n",
       "    <tr style=\"text-align: right;\">\n",
       "      <th></th>\n",
       "      <th>Unnamed: 0</th>\n",
       "      <th>job_title</th>\n",
       "      <th>job_type</th>\n",
       "      <th>experience_level</th>\n",
       "      <th>location</th>\n",
       "      <th>salary_currency</th>\n",
       "      <th>salary</th>\n",
       "    </tr>\n",
       "  </thead>\n",
       "  <tbody>\n",
       "    <tr>\n",
       "      <th>1166</th>\n",
       "      <td>2243</td>\n",
       "      <td>ML Ops</td>\n",
       "      <td>Full Time</td>\n",
       "      <td>Senior</td>\n",
       "      <td>Toronto</td>\n",
       "      <td>USD</td>\n",
       "      <td>228000</td>\n",
       "    </tr>\n",
       "    <tr>\n",
       "      <th>1167</th>\n",
       "      <td>2249</td>\n",
       "      <td>ML Ops</td>\n",
       "      <td>Full Time</td>\n",
       "      <td>Senior</td>\n",
       "      <td>Boston</td>\n",
       "      <td>USD</td>\n",
       "      <td>115000</td>\n",
       "    </tr>\n",
       "    <tr>\n",
       "      <th>1168</th>\n",
       "      <td>2250</td>\n",
       "      <td>ML Ops</td>\n",
       "      <td>Full Time</td>\n",
       "      <td>Senior</td>\n",
       "      <td>Delhi</td>\n",
       "      <td>USD</td>\n",
       "      <td>76000</td>\n",
       "    </tr>\n",
       "    <tr>\n",
       "      <th>1169</th>\n",
       "      <td>2255</td>\n",
       "      <td>ML Ops</td>\n",
       "      <td>Full Time</td>\n",
       "      <td>Senior</td>\n",
       "      <td>San Francisco</td>\n",
       "      <td>USD</td>\n",
       "      <td>68000</td>\n",
       "    </tr>\n",
       "    <tr>\n",
       "      <th>1170</th>\n",
       "      <td>2259</td>\n",
       "      <td>ML Ops</td>\n",
       "      <td>Internship</td>\n",
       "      <td>Senior</td>\n",
       "      <td>New York City</td>\n",
       "      <td>USD</td>\n",
       "      <td>135000</td>\n",
       "    </tr>\n",
       "  </tbody>\n",
       "</table>\n",
       "</div>"
      ],
      "text/plain": [
       "      Unnamed: 0 job_title    job_type experience_level       location  \\\n",
       "1166        2243    ML Ops   Full Time           Senior        Toronto   \n",
       "1167        2249    ML Ops   Full Time           Senior         Boston   \n",
       "1168        2250    ML Ops   Full Time           Senior          Delhi   \n",
       "1169        2255    ML Ops   Full Time           Senior  San Francisco   \n",
       "1170        2259    ML Ops  Internship           Senior  New York City   \n",
       "\n",
       "     salary_currency  salary  \n",
       "1166             USD  228000  \n",
       "1167             USD  115000  \n",
       "1168             USD   76000  \n",
       "1169             USD   68000  \n",
       "1170             USD  135000  "
      ]
     },
     "execution_count": 105,
     "metadata": {},
     "output_type": "execute_result"
    }
   ],
   "source": [
    "data.tail()"
   ]
  },
  {
   "cell_type": "code",
   "execution_count": 106,
   "id": "d314bab5",
   "metadata": {
    "scrolled": true
   },
   "outputs": [
    {
     "name": "stdout",
     "output_type": "stream",
     "text": [
      "<class 'pandas.core.frame.DataFrame'>\n",
      "RangeIndex: 1171 entries, 0 to 1170\n",
      "Data columns (total 7 columns):\n",
      " #   Column            Non-Null Count  Dtype \n",
      "---  ------            --------------  ----- \n",
      " 0   Unnamed: 0        1171 non-null   int64 \n",
      " 1   job_title         1171 non-null   object\n",
      " 2   job_type          1171 non-null   object\n",
      " 3   experience_level  1171 non-null   object\n",
      " 4   location          1171 non-null   object\n",
      " 5   salary_currency   1171 non-null   object\n",
      " 6   salary            1171 non-null   int64 \n",
      "dtypes: int64(2), object(5)\n",
      "memory usage: 64.2+ KB\n"
     ]
    }
   ],
   "source": [
    "#Data consisit of 7 columns and 1171 rows\n",
    "data.info()"
   ]
  },
  {
   "cell_type": "code",
   "execution_count": 107,
   "id": "61f3758c",
   "metadata": {},
   "outputs": [
    {
     "data": {
      "text/html": [
       "<div>\n",
       "<style scoped>\n",
       "    .dataframe tbody tr th:only-of-type {\n",
       "        vertical-align: middle;\n",
       "    }\n",
       "\n",
       "    .dataframe tbody tr th {\n",
       "        vertical-align: top;\n",
       "    }\n",
       "\n",
       "    .dataframe thead th {\n",
       "        text-align: right;\n",
       "    }\n",
       "</style>\n",
       "<table border=\"1\" class=\"dataframe\">\n",
       "  <thead>\n",
       "    <tr style=\"text-align: right;\">\n",
       "      <th></th>\n",
       "      <th>Unnamed: 0</th>\n",
       "      <th>salary</th>\n",
       "    </tr>\n",
       "  </thead>\n",
       "  <tbody>\n",
       "    <tr>\n",
       "      <th>count</th>\n",
       "      <td>1171.000000</td>\n",
       "      <td>1171.000000</td>\n",
       "    </tr>\n",
       "    <tr>\n",
       "      <th>mean</th>\n",
       "      <td>931.620837</td>\n",
       "      <td>64836.037575</td>\n",
       "    </tr>\n",
       "    <tr>\n",
       "      <th>std</th>\n",
       "      <td>647.445266</td>\n",
       "      <td>32551.767046</td>\n",
       "    </tr>\n",
       "    <tr>\n",
       "      <th>min</th>\n",
       "      <td>0.000000</td>\n",
       "      <td>30000.000000</td>\n",
       "    </tr>\n",
       "    <tr>\n",
       "      <th>25%</th>\n",
       "      <td>364.500000</td>\n",
       "      <td>45000.000000</td>\n",
       "    </tr>\n",
       "    <tr>\n",
       "      <th>50%</th>\n",
       "      <td>815.000000</td>\n",
       "      <td>63000.000000</td>\n",
       "    </tr>\n",
       "    <tr>\n",
       "      <th>75%</th>\n",
       "      <td>1504.500000</td>\n",
       "      <td>68000.000000</td>\n",
       "    </tr>\n",
       "    <tr>\n",
       "      <th>max</th>\n",
       "      <td>2259.000000</td>\n",
       "      <td>228000.000000</td>\n",
       "    </tr>\n",
       "  </tbody>\n",
       "</table>\n",
       "</div>"
      ],
      "text/plain": [
       "        Unnamed: 0         salary\n",
       "count  1171.000000    1171.000000\n",
       "mean    931.620837   64836.037575\n",
       "std     647.445266   32551.767046\n",
       "min       0.000000   30000.000000\n",
       "25%     364.500000   45000.000000\n",
       "50%     815.000000   63000.000000\n",
       "75%    1504.500000   68000.000000\n",
       "max    2259.000000  228000.000000"
      ]
     },
     "execution_count": 107,
     "metadata": {},
     "output_type": "execute_result"
    }
   ],
   "source": [
    "data.describe()"
   ]
  },
  {
   "cell_type": "code",
   "execution_count": 108,
   "id": "616f4619",
   "metadata": {},
   "outputs": [
    {
     "data": {
      "text/plain": [
       "Unnamed: 0          0\n",
       "job_title           0\n",
       "job_type            0\n",
       "experience_level    0\n",
       "location            0\n",
       "salary_currency     0\n",
       "salary              0\n",
       "dtype: int64"
      ]
     },
     "execution_count": 108,
     "metadata": {},
     "output_type": "execute_result"
    }
   ],
   "source": [
    "# Checking for null values\n",
    "data.isnull().sum()"
   ]
  },
  {
   "cell_type": "code",
   "execution_count": 109,
   "id": "13233625",
   "metadata": {},
   "outputs": [
    {
     "data": {
      "text/plain": [
       "<Axes: title={'center': 'Missing Values'}>"
      ]
     },
     "execution_count": 109,
     "metadata": {},
     "output_type": "execute_result"
    },
    {
     "data": {
      "image/png": "[encoded data removed]",
      "text/plain": [
       "<Figure size 1500x900 with 2 Axes>"
      ]
     },
     "metadata": {},
     "output_type": "display_data"
    }
   ],
   "source": [
    "plt.figure(figsize=(15,9))\n",
    "plt.title('Missing Values')\n",
    "sns.heatmap(data.isnull())"
   ]
  },
  {
   "cell_type": "code",
   "execution_count": 110,
   "id": "4fb688b2",
   "metadata": {},
   "outputs": [
    {
     "data": {
      "text/plain": [
       "Index(['Unnamed: 0', 'job_title', 'job_type', 'experience_level', 'location',\n",
       "       'salary_currency', 'salary'],\n",
       "      dtype='object')"
      ]
     },
     "execution_count": 110,
     "metadata": {},
     "output_type": "execute_result"
    }
   ],
   "source": [
    "data.columns"
   ]
  },
  {
   "cell_type": "markdown",
   "id": "a5c0f85c",
   "metadata": {},
   "source": [
    "#### Checking categorical variables"
   ]
  },
  {
   "cell_type": "code",
   "execution_count": 111,
   "id": "ebd9483c",
   "metadata": {},
   "outputs": [
    {
     "data": {
      "text/plain": [
       "Data scientist      394\n",
       "Data analyst        368\n",
       "Machine learning    289\n",
       "Big data            101\n",
       "ML Ops               19\n",
       "Name: job_title, dtype: int64"
      ]
     },
     "execution_count": 111,
     "metadata": {},
     "output_type": "execute_result"
    }
   ],
   "source": [
    "data['job_title'].value_counts()"
   ]
  },
  {
   "cell_type": "code",
   "execution_count": 112,
   "id": "bdbab91e",
   "metadata": {},
   "outputs": [
    {
     "data": {
      "text/plain": [
       "Full Time     1136\n",
       "Internship      35\n",
       "Name: job_type, dtype: int64"
      ]
     },
     "execution_count": 112,
     "metadata": {},
     "output_type": "execute_result"
    }
   ],
   "source": [
    "data['job_type'].value_counts()"
   ]
  },
  {
   "cell_type": "code",
   "execution_count": 113,
   "id": "3fa19c85",
   "metadata": {},
   "outputs": [
    {
     "data": {
      "text/plain": [
       "Senior       727\n",
       "Mid          305\n",
       "Entry        126\n",
       "Executive     13\n",
       "Name: experience_level, dtype: int64"
      ]
     },
     "execution_count": 113,
     "metadata": {},
     "output_type": "execute_result"
    }
   ],
   "source": [
    "data['experience_level'].value_counts()"
   ]
  },
  {
   "cell_type": "code",
   "execution_count": 114,
   "id": "be068f53",
   "metadata": {},
   "outputs": [
    {
     "data": {
      "text/plain": [
       "London                    75\n",
       "Remote                    50\n",
       "San Francisco             43\n",
       "Bengaluru                 34\n",
       "Paris                     33\n",
       "                          ..\n",
       "Bogota                     1\n",
       "Kampala                    1\n",
       "Kirkland                   1\n",
       "Riga                       1\n",
       "New York City / Remote     1\n",
       "Name: location, Length: 320, dtype: int64"
      ]
     },
     "execution_count": 114,
     "metadata": {},
     "output_type": "execute_result"
    }
   ],
   "source": [
    "data['location'].value_counts()"
   ]
  },
  {
   "cell_type": "markdown",
   "id": "65c90b1b",
   "metadata": {},
   "source": [
    "## A new column created from location column to distinguish between remote and onsite"
   ]
  },
  {
   "cell_type": "code",
   "execution_count": 115,
   "id": "55e81b07",
   "metadata": {},
   "outputs": [],
   "source": [
    "data['on-site']=data['location']!= 'Remote'"
   ]
  },
  {
   "cell_type": "code",
   "execution_count": 116,
   "id": "dc2634a0",
   "metadata": {
    "scrolled": true
   },
   "outputs": [
    {
     "data": {
      "text/html": [
       "<div>\n",
       "<style scoped>\n",
       "    .dataframe tbody tr th:only-of-type {\n",
       "        vertical-align: middle;\n",
       "    }\n",
       "\n",
       "    .dataframe tbody tr th {\n",
       "        vertical-align: top;\n",
       "    }\n",
       "\n",
       "    .dataframe thead th {\n",
       "        text-align: right;\n",
       "    }\n",
       "</style>\n",
       "<table border=\"1\" class=\"dataframe\">\n",
       "  <thead>\n",
       "    <tr style=\"text-align: right;\">\n",
       "      <th></th>\n",
       "      <th>Unnamed: 0</th>\n",
       "      <th>job_title</th>\n",
       "      <th>job_type</th>\n",
       "      <th>experience_level</th>\n",
       "      <th>location</th>\n",
       "      <th>salary_currency</th>\n",
       "      <th>salary</th>\n",
       "      <th>on-site</th>\n",
       "    </tr>\n",
       "  </thead>\n",
       "  <tbody>\n",
       "    <tr>\n",
       "      <th>0</th>\n",
       "      <td>0</td>\n",
       "      <td>Data scientist</td>\n",
       "      <td>Full Time</td>\n",
       "      <td>Senior</td>\n",
       "      <td>New York City</td>\n",
       "      <td>USD</td>\n",
       "      <td>149000</td>\n",
       "      <td>True</td>\n",
       "    </tr>\n",
       "    <tr>\n",
       "      <th>1</th>\n",
       "      <td>2</td>\n",
       "      <td>Data scientist</td>\n",
       "      <td>Full Time</td>\n",
       "      <td>Senior</td>\n",
       "      <td>Boston</td>\n",
       "      <td>USD</td>\n",
       "      <td>120000</td>\n",
       "      <td>True</td>\n",
       "    </tr>\n",
       "    <tr>\n",
       "      <th>2</th>\n",
       "      <td>3</td>\n",
       "      <td>Data scientist</td>\n",
       "      <td>Full Time</td>\n",
       "      <td>Senior</td>\n",
       "      <td>London</td>\n",
       "      <td>USD</td>\n",
       "      <td>68000</td>\n",
       "      <td>True</td>\n",
       "    </tr>\n",
       "    <tr>\n",
       "      <th>3</th>\n",
       "      <td>4</td>\n",
       "      <td>Data scientist</td>\n",
       "      <td>Full Time</td>\n",
       "      <td>Senior</td>\n",
       "      <td>Boston</td>\n",
       "      <td>USD</td>\n",
       "      <td>120000</td>\n",
       "      <td>True</td>\n",
       "    </tr>\n",
       "    <tr>\n",
       "      <th>4</th>\n",
       "      <td>5</td>\n",
       "      <td>Data scientist</td>\n",
       "      <td>Full Time</td>\n",
       "      <td>Senior</td>\n",
       "      <td>New York City</td>\n",
       "      <td>USD</td>\n",
       "      <td>149000</td>\n",
       "      <td>True</td>\n",
       "    </tr>\n",
       "  </tbody>\n",
       "</table>\n",
       "</div>"
      ],
      "text/plain": [
       "   Unnamed: 0       job_title   job_type experience_level       location  \\\n",
       "0           0  Data scientist  Full Time           Senior  New York City   \n",
       "1           2  Data scientist  Full Time           Senior         Boston   \n",
       "2           3  Data scientist  Full Time           Senior         London   \n",
       "3           4  Data scientist  Full Time           Senior         Boston   \n",
       "4           5  Data scientist  Full Time           Senior  New York City   \n",
       "\n",
       "  salary_currency  salary  on-site  \n",
       "0             USD  149000     True  \n",
       "1             USD  120000     True  \n",
       "2             USD   68000     True  \n",
       "3             USD  120000     True  \n",
       "4             USD  149000     True  "
      ]
     },
     "execution_count": 116,
     "metadata": {},
     "output_type": "execute_result"
    }
   ],
   "source": [
    "data.head()"
   ]
  },
  {
   "cell_type": "code",
   "execution_count": 118,
   "id": "78ea42e9",
   "metadata": {},
   "outputs": [],
   "source": [
    "data['on-site']=data['on-site'].astype(int)"
   ]
  },
  {
   "cell_type": "code",
   "execution_count": 119,
   "id": "d82fde16",
   "metadata": {},
   "outputs": [
    {
     "data": {
      "text/html": [
       "<div>\n",
       "<style scoped>\n",
       "    .dataframe tbody tr th:only-of-type {\n",
       "        vertical-align: middle;\n",
       "    }\n",
       "\n",
       "    .dataframe tbody tr th {\n",
       "        vertical-align: top;\n",
       "    }\n",
       "\n",
       "    .dataframe thead th {\n",
       "        text-align: right;\n",
       "    }\n",
       "</style>\n",
       "<table border=\"1\" class=\"dataframe\">\n",
       "  <thead>\n",
       "    <tr style=\"text-align: right;\">\n",
       "      <th></th>\n",
       "      <th>Unnamed: 0</th>\n",
       "      <th>job_title</th>\n",
       "      <th>job_type</th>\n",
       "      <th>experience_level</th>\n",
       "      <th>location</th>\n",
       "      <th>salary_currency</th>\n",
       "      <th>salary</th>\n",
       "      <th>on-site</th>\n",
       "    </tr>\n",
       "  </thead>\n",
       "  <tbody>\n",
       "    <tr>\n",
       "      <th>0</th>\n",
       "      <td>0</td>\n",
       "      <td>Data scientist</td>\n",
       "      <td>Full Time</td>\n",
       "      <td>Senior</td>\n",
       "      <td>New York City</td>\n",
       "      <td>USD</td>\n",
       "      <td>149000</td>\n",
       "      <td>1</td>\n",
       "    </tr>\n",
       "    <tr>\n",
       "      <th>1</th>\n",
       "      <td>2</td>\n",
       "      <td>Data scientist</td>\n",
       "      <td>Full Time</td>\n",
       "      <td>Senior</td>\n",
       "      <td>Boston</td>\n",
       "      <td>USD</td>\n",
       "      <td>120000</td>\n",
       "      <td>1</td>\n",
       "    </tr>\n",
       "    <tr>\n",
       "      <th>2</th>\n",
       "      <td>3</td>\n",
       "      <td>Data scientist</td>\n",
       "      <td>Full Time</td>\n",
       "      <td>Senior</td>\n",
       "      <td>London</td>\n",
       "      <td>USD</td>\n",
       "      <td>68000</td>\n",
       "      <td>1</td>\n",
       "    </tr>\n",
       "    <tr>\n",
       "      <th>3</th>\n",
       "      <td>4</td>\n",
       "      <td>Data scientist</td>\n",
       "      <td>Full Time</td>\n",
       "      <td>Senior</td>\n",
       "      <td>Boston</td>\n",
       "      <td>USD</td>\n",
       "      <td>120000</td>\n",
       "      <td>1</td>\n",
       "    </tr>\n",
       "    <tr>\n",
       "      <th>4</th>\n",
       "      <td>5</td>\n",
       "      <td>Data scientist</td>\n",
       "      <td>Full Time</td>\n",
       "      <td>Senior</td>\n",
       "      <td>New York City</td>\n",
       "      <td>USD</td>\n",
       "      <td>149000</td>\n",
       "      <td>1</td>\n",
       "    </tr>\n",
       "  </tbody>\n",
       "</table>\n",
       "</div>"
      ],
      "text/plain": [
       "   Unnamed: 0       job_title   job_type experience_level       location  \\\n",
       "0           0  Data scientist  Full Time           Senior  New York City   \n",
       "1           2  Data scientist  Full Time           Senior         Boston   \n",
       "2           3  Data scientist  Full Time           Senior         London   \n",
       "3           4  Data scientist  Full Time           Senior         Boston   \n",
       "4           5  Data scientist  Full Time           Senior  New York City   \n",
       "\n",
       "  salary_currency  salary  on-site  \n",
       "0             USD  149000        1  \n",
       "1             USD  120000        1  \n",
       "2             USD   68000        1  \n",
       "3             USD  120000        1  \n",
       "4             USD  149000        1  "
      ]
     },
     "execution_count": 119,
     "metadata": {},
     "output_type": "execute_result"
    }
   ],
   "source": [
    "data.head()"
   ]
  },
  {
   "cell_type": "code",
   "execution_count": 79,
   "id": "5a5f3319",
   "metadata": {},
   "outputs": [
    {
     "data": {
      "text/plain": [
       "1    1121\n",
       "0      50\n",
       "Name: on-site, dtype: int64"
      ]
     },
     "execution_count": 79,
     "metadata": {},
     "output_type": "execute_result"
    }
   ],
   "source": [
    "data['on-site'].value_counts()"
   ]
  },
  {
   "cell_type": "markdown",
   "id": "7d2e7639",
   "metadata": {},
   "source": [
    "## Convert GBP and EUR to USD"
   ]
  },
  {
   "cell_type": "code",
   "execution_count": 80,
   "id": "3a7e3f6d",
   "metadata": {},
   "outputs": [
    {
     "data": {
      "text/plain": [
       "USD    1157\n",
       "EUR       9\n",
       "GBP       5\n",
       "Name: salary_currency, dtype: int64"
      ]
     },
     "execution_count": 80,
     "metadata": {},
     "output_type": "execute_result"
    }
   ],
   "source": [
    "data['salary_currency'].value_counts()"
   ]
  },
  {
   "cell_type": "code",
   "execution_count": 81,
   "id": "70110405",
   "metadata": {},
   "outputs": [
    {
     "data": {
      "text/html": [
       "<div>\n",
       "<style scoped>\n",
       "    .dataframe tbody tr th:only-of-type {\n",
       "        vertical-align: middle;\n",
       "    }\n",
       "\n",
       "    .dataframe tbody tr th {\n",
       "        vertical-align: top;\n",
       "    }\n",
       "\n",
       "    .dataframe thead th {\n",
       "        text-align: right;\n",
       "    }\n",
       "</style>\n",
       "<table border=\"1\" class=\"dataframe\">\n",
       "  <thead>\n",
       "    <tr style=\"text-align: right;\">\n",
       "      <th></th>\n",
       "      <th>Unnamed: 0</th>\n",
       "      <th>job_title</th>\n",
       "      <th>job_type</th>\n",
       "      <th>experience_level</th>\n",
       "      <th>location</th>\n",
       "      <th>salary_currency</th>\n",
       "      <th>salary</th>\n",
       "      <th>on-site</th>\n",
       "    </tr>\n",
       "  </thead>\n",
       "  <tbody>\n",
       "    <tr>\n",
       "      <th>63</th>\n",
       "      <td>84</td>\n",
       "      <td>Data scientist</td>\n",
       "      <td>Full Time</td>\n",
       "      <td>Senior</td>\n",
       "      <td>Madrid</td>\n",
       "      <td>EUR</td>\n",
       "      <td>36000</td>\n",
       "      <td>1</td>\n",
       "    </tr>\n",
       "    <tr>\n",
       "      <th>94</th>\n",
       "      <td>123</td>\n",
       "      <td>Data scientist</td>\n",
       "      <td>Full Time</td>\n",
       "      <td>Mid</td>\n",
       "      <td>Paris</td>\n",
       "      <td>EUR</td>\n",
       "      <td>50000</td>\n",
       "      <td>1</td>\n",
       "    </tr>\n",
       "    <tr>\n",
       "      <th>149</th>\n",
       "      <td>188</td>\n",
       "      <td>Data scientist</td>\n",
       "      <td>Full Time</td>\n",
       "      <td>Senior</td>\n",
       "      <td>Madrid</td>\n",
       "      <td>EUR</td>\n",
       "      <td>36000</td>\n",
       "      <td>1</td>\n",
       "    </tr>\n",
       "    <tr>\n",
       "      <th>182</th>\n",
       "      <td>226</td>\n",
       "      <td>Data scientist</td>\n",
       "      <td>Full Time</td>\n",
       "      <td>Mid</td>\n",
       "      <td>Berlin</td>\n",
       "      <td>EUR</td>\n",
       "      <td>58000</td>\n",
       "      <td>1</td>\n",
       "    </tr>\n",
       "    <tr>\n",
       "      <th>238</th>\n",
       "      <td>295</td>\n",
       "      <td>Data scientist</td>\n",
       "      <td>Full Time</td>\n",
       "      <td>Senior</td>\n",
       "      <td>Madrid</td>\n",
       "      <td>EUR</td>\n",
       "      <td>36000</td>\n",
       "      <td>1</td>\n",
       "    </tr>\n",
       "    <tr>\n",
       "      <th>354</th>\n",
       "      <td>444</td>\n",
       "      <td>Data scientist</td>\n",
       "      <td>Full Time</td>\n",
       "      <td>Senior</td>\n",
       "      <td>Madrid</td>\n",
       "      <td>EUR</td>\n",
       "      <td>36000</td>\n",
       "      <td>1</td>\n",
       "    </tr>\n",
       "    <tr>\n",
       "      <th>421</th>\n",
       "      <td>537</td>\n",
       "      <td>Data analyst</td>\n",
       "      <td>Full Time</td>\n",
       "      <td>Senior</td>\n",
       "      <td>Madrid</td>\n",
       "      <td>EUR</td>\n",
       "      <td>38000</td>\n",
       "      <td>1</td>\n",
       "    </tr>\n",
       "    <tr>\n",
       "      <th>762</th>\n",
       "      <td>1200</td>\n",
       "      <td>Big data</td>\n",
       "      <td>Full Time</td>\n",
       "      <td>Senior</td>\n",
       "      <td>Remote</td>\n",
       "      <td>EUR</td>\n",
       "      <td>65000</td>\n",
       "      <td>0</td>\n",
       "    </tr>\n",
       "    <tr>\n",
       "      <th>1008</th>\n",
       "      <td>1800</td>\n",
       "      <td>Machine learning</td>\n",
       "      <td>Full Time</td>\n",
       "      <td>Senior</td>\n",
       "      <td>Paris | Remote</td>\n",
       "      <td>EUR</td>\n",
       "      <td>70000</td>\n",
       "      <td>1</td>\n",
       "    </tr>\n",
       "  </tbody>\n",
       "</table>\n",
       "</div>"
      ],
      "text/plain": [
       "      Unnamed: 0         job_title   job_type experience_level  \\\n",
       "63            84    Data scientist  Full Time           Senior   \n",
       "94           123    Data scientist  Full Time              Mid   \n",
       "149          188    Data scientist  Full Time           Senior   \n",
       "182          226    Data scientist  Full Time              Mid   \n",
       "238          295    Data scientist  Full Time           Senior   \n",
       "354          444    Data scientist  Full Time           Senior   \n",
       "421          537      Data analyst  Full Time           Senior   \n",
       "762         1200          Big data  Full Time           Senior   \n",
       "1008        1800  Machine learning  Full Time           Senior   \n",
       "\n",
       "            location salary_currency  salary  on-site  \n",
       "63            Madrid             EUR   36000        1  \n",
       "94             Paris             EUR   50000        1  \n",
       "149           Madrid             EUR   36000        1  \n",
       "182           Berlin             EUR   58000        1  \n",
       "238           Madrid             EUR   36000        1  \n",
       "354           Madrid             EUR   36000        1  \n",
       "421           Madrid             EUR   38000        1  \n",
       "762           Remote             EUR   65000        0  \n",
       "1008  Paris | Remote             EUR   70000        1  "
      ]
     },
     "execution_count": 81,
     "metadata": {},
     "output_type": "execute_result"
    }
   ],
   "source": [
    "data[data['salary_currency']=='EUR']"
   ]
  },
  {
   "cell_type": "code",
   "execution_count": 82,
   "id": "928ba964",
   "metadata": {},
   "outputs": [
    {
     "name": "stderr",
     "output_type": "stream",
     "text": [
      "/var/folders/4v/14_p203d1_987b4lxcc7_b380000gp/T/ipykernel_2698/4227913255.py:1: SettingWithCopyWarning: \n",
      "A value is trying to be set on a copy of a slice from a DataFrame\n",
      "\n",
      "See the caveats in the documentation: https://pandas.pydata.org/pandas-docs/stable/user_guide/indexing.html#returning-a-view-versus-a-copy\n",
      "  data['salary'][data['salary_currency']=='EUR']=data['salary'][data['salary_currency']=='EUR']*1.10\n"
     ]
    }
   ],
   "source": [
    "data['salary'][data['salary_currency']=='EUR']=data['salary'][data['salary_currency']=='EUR']*1.10"
   ]
  },
  {
   "cell_type": "code",
   "execution_count": 83,
   "id": "d2acd577",
   "metadata": {
    "scrolled": true
   },
   "outputs": [
    {
     "data": {
      "text/html": [
       "<div>\n",
       "<style scoped>\n",
       "    .dataframe tbody tr th:only-of-type {\n",
       "        vertical-align: middle;\n",
       "    }\n",
       "\n",
       "    .dataframe tbody tr th {\n",
       "        vertical-align: top;\n",
       "    }\n",
       "\n",
       "    .dataframe thead th {\n",
       "        text-align: right;\n",
       "    }\n",
       "</style>\n",
       "<table border=\"1\" class=\"dataframe\">\n",
       "  <thead>\n",
       "    <tr style=\"text-align: right;\">\n",
       "      <th></th>\n",
       "      <th>Unnamed: 0</th>\n",
       "      <th>job_title</th>\n",
       "      <th>job_type</th>\n",
       "      <th>experience_level</th>\n",
       "      <th>location</th>\n",
       "      <th>salary_currency</th>\n",
       "      <th>salary</th>\n",
       "      <th>on-site</th>\n",
       "    </tr>\n",
       "  </thead>\n",
       "  <tbody>\n",
       "    <tr>\n",
       "      <th>63</th>\n",
       "      <td>84</td>\n",
       "      <td>Data scientist</td>\n",
       "      <td>Full Time</td>\n",
       "      <td>Senior</td>\n",
       "      <td>Madrid</td>\n",
       "      <td>EUR</td>\n",
       "      <td>39600.0</td>\n",
       "      <td>1</td>\n",
       "    </tr>\n",
       "    <tr>\n",
       "      <th>94</th>\n",
       "      <td>123</td>\n",
       "      <td>Data scientist</td>\n",
       "      <td>Full Time</td>\n",
       "      <td>Mid</td>\n",
       "      <td>Paris</td>\n",
       "      <td>EUR</td>\n",
       "      <td>55000.0</td>\n",
       "      <td>1</td>\n",
       "    </tr>\n",
       "    <tr>\n",
       "      <th>149</th>\n",
       "      <td>188</td>\n",
       "      <td>Data scientist</td>\n",
       "      <td>Full Time</td>\n",
       "      <td>Senior</td>\n",
       "      <td>Madrid</td>\n",
       "      <td>EUR</td>\n",
       "      <td>39600.0</td>\n",
       "      <td>1</td>\n",
       "    </tr>\n",
       "    <tr>\n",
       "      <th>182</th>\n",
       "      <td>226</td>\n",
       "      <td>Data scientist</td>\n",
       "      <td>Full Time</td>\n",
       "      <td>Mid</td>\n",
       "      <td>Berlin</td>\n",
       "      <td>EUR</td>\n",
       "      <td>63800.0</td>\n",
       "      <td>1</td>\n",
       "    </tr>\n",
       "    <tr>\n",
       "      <th>238</th>\n",
       "      <td>295</td>\n",
       "      <td>Data scientist</td>\n",
       "      <td>Full Time</td>\n",
       "      <td>Senior</td>\n",
       "      <td>Madrid</td>\n",
       "      <td>EUR</td>\n",
       "      <td>39600.0</td>\n",
       "      <td>1</td>\n",
       "    </tr>\n",
       "    <tr>\n",
       "      <th>354</th>\n",
       "      <td>444</td>\n",
       "      <td>Data scientist</td>\n",
       "      <td>Full Time</td>\n",
       "      <td>Senior</td>\n",
       "      <td>Madrid</td>\n",
       "      <td>EUR</td>\n",
       "      <td>39600.0</td>\n",
       "      <td>1</td>\n",
       "    </tr>\n",
       "    <tr>\n",
       "      <th>421</th>\n",
       "      <td>537</td>\n",
       "      <td>Data analyst</td>\n",
       "      <td>Full Time</td>\n",
       "      <td>Senior</td>\n",
       "      <td>Madrid</td>\n",
       "      <td>EUR</td>\n",
       "      <td>41800.0</td>\n",
       "      <td>1</td>\n",
       "    </tr>\n",
       "    <tr>\n",
       "      <th>762</th>\n",
       "      <td>1200</td>\n",
       "      <td>Big data</td>\n",
       "      <td>Full Time</td>\n",
       "      <td>Senior</td>\n",
       "      <td>Remote</td>\n",
       "      <td>EUR</td>\n",
       "      <td>71500.0</td>\n",
       "      <td>0</td>\n",
       "    </tr>\n",
       "    <tr>\n",
       "      <th>1008</th>\n",
       "      <td>1800</td>\n",
       "      <td>Machine learning</td>\n",
       "      <td>Full Time</td>\n",
       "      <td>Senior</td>\n",
       "      <td>Paris | Remote</td>\n",
       "      <td>EUR</td>\n",
       "      <td>77000.0</td>\n",
       "      <td>1</td>\n",
       "    </tr>\n",
       "  </tbody>\n",
       "</table>\n",
       "</div>"
      ],
      "text/plain": [
       "      Unnamed: 0         job_title   job_type experience_level  \\\n",
       "63            84    Data scientist  Full Time           Senior   \n",
       "94           123    Data scientist  Full Time              Mid   \n",
       "149          188    Data scientist  Full Time           Senior   \n",
       "182          226    Data scientist  Full Time              Mid   \n",
       "238          295    Data scientist  Full Time           Senior   \n",
       "354          444    Data scientist  Full Time           Senior   \n",
       "421          537      Data analyst  Full Time           Senior   \n",
       "762         1200          Big data  Full Time           Senior   \n",
       "1008        1800  Machine learning  Full Time           Senior   \n",
       "\n",
       "            location salary_currency   salary  on-site  \n",
       "63            Madrid             EUR  39600.0        1  \n",
       "94             Paris             EUR  55000.0        1  \n",
       "149           Madrid             EUR  39600.0        1  \n",
       "182           Berlin             EUR  63800.0        1  \n",
       "238           Madrid             EUR  39600.0        1  \n",
       "354           Madrid             EUR  39600.0        1  \n",
       "421           Madrid             EUR  41800.0        1  \n",
       "762           Remote             EUR  71500.0        0  \n",
       "1008  Paris | Remote             EUR  77000.0        1  "
      ]
     },
     "execution_count": 83,
     "metadata": {},
     "output_type": "execute_result"
    }
   ],
   "source": [
    "data[data['salary_currency']=='EUR']"
   ]
  },
  {
   "cell_type": "code",
   "execution_count": 84,
   "id": "a7ac773b",
   "metadata": {},
   "outputs": [
    {
     "data": {
      "text/html": [
       "<div>\n",
       "<style scoped>\n",
       "    .dataframe tbody tr th:only-of-type {\n",
       "        vertical-align: middle;\n",
       "    }\n",
       "\n",
       "    .dataframe tbody tr th {\n",
       "        vertical-align: top;\n",
       "    }\n",
       "\n",
       "    .dataframe thead th {\n",
       "        text-align: right;\n",
       "    }\n",
       "</style>\n",
       "<table border=\"1\" class=\"dataframe\">\n",
       "  <thead>\n",
       "    <tr style=\"text-align: right;\">\n",
       "      <th></th>\n",
       "      <th>Unnamed: 0</th>\n",
       "      <th>job_title</th>\n",
       "      <th>job_type</th>\n",
       "      <th>experience_level</th>\n",
       "      <th>location</th>\n",
       "      <th>salary_currency</th>\n",
       "      <th>salary</th>\n",
       "      <th>on-site</th>\n",
       "    </tr>\n",
       "  </thead>\n",
       "  <tbody>\n",
       "    <tr>\n",
       "      <th>423</th>\n",
       "      <td>540</td>\n",
       "      <td>Data analyst</td>\n",
       "      <td>Full Time</td>\n",
       "      <td>Mid</td>\n",
       "      <td>London</td>\n",
       "      <td>GBP</td>\n",
       "      <td>45000.0</td>\n",
       "      <td>1</td>\n",
       "    </tr>\n",
       "    <tr>\n",
       "      <th>454</th>\n",
       "      <td>593</td>\n",
       "      <td>Data analyst</td>\n",
       "      <td>Full Time</td>\n",
       "      <td>Mid</td>\n",
       "      <td>Newbury</td>\n",
       "      <td>GBP</td>\n",
       "      <td>45000.0</td>\n",
       "      <td>1</td>\n",
       "    </tr>\n",
       "    <tr>\n",
       "      <th>593</th>\n",
       "      <td>824</td>\n",
       "      <td>Data analyst</td>\n",
       "      <td>Full Time</td>\n",
       "      <td>Senior</td>\n",
       "      <td>London</td>\n",
       "      <td>GBP</td>\n",
       "      <td>57000.0</td>\n",
       "      <td>1</td>\n",
       "    </tr>\n",
       "    <tr>\n",
       "      <th>1036</th>\n",
       "      <td>1864</td>\n",
       "      <td>Machine learning</td>\n",
       "      <td>Full Time</td>\n",
       "      <td>Mid</td>\n",
       "      <td>London</td>\n",
       "      <td>GBP</td>\n",
       "      <td>40000.0</td>\n",
       "      <td>1</td>\n",
       "    </tr>\n",
       "    <tr>\n",
       "      <th>1116</th>\n",
       "      <td>2066</td>\n",
       "      <td>Machine learning</td>\n",
       "      <td>Full Time</td>\n",
       "      <td>Mid</td>\n",
       "      <td>London</td>\n",
       "      <td>GBP</td>\n",
       "      <td>65000.0</td>\n",
       "      <td>1</td>\n",
       "    </tr>\n",
       "  </tbody>\n",
       "</table>\n",
       "</div>"
      ],
      "text/plain": [
       "      Unnamed: 0         job_title   job_type experience_level location  \\\n",
       "423          540      Data analyst  Full Time              Mid   London   \n",
       "454          593      Data analyst  Full Time              Mid  Newbury   \n",
       "593          824      Data analyst  Full Time           Senior   London   \n",
       "1036        1864  Machine learning  Full Time              Mid   London   \n",
       "1116        2066  Machine learning  Full Time              Mid   London   \n",
       "\n",
       "     salary_currency   salary  on-site  \n",
       "423              GBP  45000.0        1  \n",
       "454              GBP  45000.0        1  \n",
       "593              GBP  57000.0        1  \n",
       "1036             GBP  40000.0        1  \n",
       "1116             GBP  65000.0        1  "
      ]
     },
     "execution_count": 84,
     "metadata": {},
     "output_type": "execute_result"
    }
   ],
   "source": [
    "data[data['salary_currency']=='GBP']"
   ]
  },
  {
   "cell_type": "code",
   "execution_count": 85,
   "id": "c1c5b1a1",
   "metadata": {},
   "outputs": [],
   "source": [
    "data['salary'][data['salary_currency']=='GBP']=data['salary'][data['salary_currency']=='GBP']*1.25"
   ]
  },
  {
   "cell_type": "code",
   "execution_count": 86,
   "id": "8c5d337c",
   "metadata": {
    "scrolled": true
   },
   "outputs": [
    {
     "data": {
      "text/html": [
       "<div>\n",
       "<style scoped>\n",
       "    .dataframe tbody tr th:only-of-type {\n",
       "        vertical-align: middle;\n",
       "    }\n",
       "\n",
       "    .dataframe tbody tr th {\n",
       "        vertical-align: top;\n",
       "    }\n",
       "\n",
       "    .dataframe thead th {\n",
       "        text-align: right;\n",
       "    }\n",
       "</style>\n",
       "<table border=\"1\" class=\"dataframe\">\n",
       "  <thead>\n",
       "    <tr style=\"text-align: right;\">\n",
       "      <th></th>\n",
       "      <th>Unnamed: 0</th>\n",
       "      <th>job_title</th>\n",
       "      <th>job_type</th>\n",
       "      <th>experience_level</th>\n",
       "      <th>location</th>\n",
       "      <th>salary_currency</th>\n",
       "      <th>salary</th>\n",
       "      <th>on-site</th>\n",
       "    </tr>\n",
       "  </thead>\n",
       "  <tbody>\n",
       "    <tr>\n",
       "      <th>423</th>\n",
       "      <td>540</td>\n",
       "      <td>Data analyst</td>\n",
       "      <td>Full Time</td>\n",
       "      <td>Mid</td>\n",
       "      <td>London</td>\n",
       "      <td>GBP</td>\n",
       "      <td>56250.0</td>\n",
       "      <td>1</td>\n",
       "    </tr>\n",
       "    <tr>\n",
       "      <th>454</th>\n",
       "      <td>593</td>\n",
       "      <td>Data analyst</td>\n",
       "      <td>Full Time</td>\n",
       "      <td>Mid</td>\n",
       "      <td>Newbury</td>\n",
       "      <td>GBP</td>\n",
       "      <td>56250.0</td>\n",
       "      <td>1</td>\n",
       "    </tr>\n",
       "    <tr>\n",
       "      <th>593</th>\n",
       "      <td>824</td>\n",
       "      <td>Data analyst</td>\n",
       "      <td>Full Time</td>\n",
       "      <td>Senior</td>\n",
       "      <td>London</td>\n",
       "      <td>GBP</td>\n",
       "      <td>71250.0</td>\n",
       "      <td>1</td>\n",
       "    </tr>\n",
       "    <tr>\n",
       "      <th>1036</th>\n",
       "      <td>1864</td>\n",
       "      <td>Machine learning</td>\n",
       "      <td>Full Time</td>\n",
       "      <td>Mid</td>\n",
       "      <td>London</td>\n",
       "      <td>GBP</td>\n",
       "      <td>50000.0</td>\n",
       "      <td>1</td>\n",
       "    </tr>\n",
       "    <tr>\n",
       "      <th>1116</th>\n",
       "      <td>2066</td>\n",
       "      <td>Machine learning</td>\n",
       "      <td>Full Time</td>\n",
       "      <td>Mid</td>\n",
       "      <td>London</td>\n",
       "      <td>GBP</td>\n",
       "      <td>81250.0</td>\n",
       "      <td>1</td>\n",
       "    </tr>\n",
       "  </tbody>\n",
       "</table>\n",
       "</div>"
      ],
      "text/plain": [
       "      Unnamed: 0         job_title   job_type experience_level location  \\\n",
       "423          540      Data analyst  Full Time              Mid   London   \n",
       "454          593      Data analyst  Full Time              Mid  Newbury   \n",
       "593          824      Data analyst  Full Time           Senior   London   \n",
       "1036        1864  Machine learning  Full Time              Mid   London   \n",
       "1116        2066  Machine learning  Full Time              Mid   London   \n",
       "\n",
       "     salary_currency   salary  on-site  \n",
       "423              GBP  56250.0        1  \n",
       "454              GBP  56250.0        1  \n",
       "593              GBP  71250.0        1  \n",
       "1036             GBP  50000.0        1  \n",
       "1116             GBP  81250.0        1  "
      ]
     },
     "execution_count": 86,
     "metadata": {},
     "output_type": "execute_result"
    }
   ],
   "source": [
    "data[data['salary_currency']=='GBP']"
   ]
  },
  {
   "cell_type": "markdown",
   "id": "2e86b01f",
   "metadata": {},
   "source": [
    "## Drop unuseful columns"
   ]
  },
  {
   "cell_type": "code",
   "execution_count": 87,
   "id": "c31f0c23",
   "metadata": {},
   "outputs": [
    {
     "data": {
      "text/plain": [
       "Index(['Unnamed: 0', 'job_title', 'job_type', 'experience_level', 'location',\n",
       "       'salary_currency', 'salary', 'on-site'],\n",
       "      dtype='object')"
      ]
     },
     "execution_count": 87,
     "metadata": {},
     "output_type": "execute_result"
    }
   ],
   "source": [
    "data.columns"
   ]
  },
  {
   "cell_type": "code",
   "execution_count": 88,
   "id": "34eb9cf2",
   "metadata": {},
   "outputs": [],
   "source": [
    "data=data.drop(['Unnamed: 0','location','salary_currency'], axis=1)"
   ]
  },
  {
   "cell_type": "code",
   "execution_count": 89,
   "id": "e0712fb5",
   "metadata": {
    "scrolled": true
   },
   "outputs": [
    {
     "data": {
      "text/html": [
       "<div>\n",
       "<style scoped>\n",
       "    .dataframe tbody tr th:only-of-type {\n",
       "        vertical-align: middle;\n",
       "    }\n",
       "\n",
       "    .dataframe tbody tr th {\n",
       "        vertical-align: top;\n",
       "    }\n",
       "\n",
       "    .dataframe thead th {\n",
       "        text-align: right;\n",
       "    }\n",
       "</style>\n",
       "<table border=\"1\" class=\"dataframe\">\n",
       "  <thead>\n",
       "    <tr style=\"text-align: right;\">\n",
       "      <th></th>\n",
       "      <th>job_title</th>\n",
       "      <th>job_type</th>\n",
       "      <th>experience_level</th>\n",
       "      <th>salary</th>\n",
       "      <th>on-site</th>\n",
       "    </tr>\n",
       "  </thead>\n",
       "  <tbody>\n",
       "    <tr>\n",
       "      <th>0</th>\n",
       "      <td>Data scientist</td>\n",
       "      <td>Full Time</td>\n",
       "      <td>Senior</td>\n",
       "      <td>149000.0</td>\n",
       "      <td>1</td>\n",
       "    </tr>\n",
       "    <tr>\n",
       "      <th>1</th>\n",
       "      <td>Data scientist</td>\n",
       "      <td>Full Time</td>\n",
       "      <td>Senior</td>\n",
       "      <td>120000.0</td>\n",
       "      <td>1</td>\n",
       "    </tr>\n",
       "    <tr>\n",
       "      <th>2</th>\n",
       "      <td>Data scientist</td>\n",
       "      <td>Full Time</td>\n",
       "      <td>Senior</td>\n",
       "      <td>68000.0</td>\n",
       "      <td>1</td>\n",
       "    </tr>\n",
       "    <tr>\n",
       "      <th>3</th>\n",
       "      <td>Data scientist</td>\n",
       "      <td>Full Time</td>\n",
       "      <td>Senior</td>\n",
       "      <td>120000.0</td>\n",
       "      <td>1</td>\n",
       "    </tr>\n",
       "    <tr>\n",
       "      <th>4</th>\n",
       "      <td>Data scientist</td>\n",
       "      <td>Full Time</td>\n",
       "      <td>Senior</td>\n",
       "      <td>149000.0</td>\n",
       "      <td>1</td>\n",
       "    </tr>\n",
       "  </tbody>\n",
       "</table>\n",
       "</div>"
      ],
      "text/plain": [
       "        job_title   job_type experience_level    salary  on-site\n",
       "0  Data scientist  Full Time           Senior  149000.0        1\n",
       "1  Data scientist  Full Time           Senior  120000.0        1\n",
       "2  Data scientist  Full Time           Senior   68000.0        1\n",
       "3  Data scientist  Full Time           Senior  120000.0        1\n",
       "4  Data scientist  Full Time           Senior  149000.0        1"
      ]
     },
     "execution_count": 89,
     "metadata": {},
     "output_type": "execute_result"
    }
   ],
   "source": [
    "data.head()"
   ]
  },
  {
   "cell_type": "code",
   "execution_count": 90,
   "id": "fc7fb26a",
   "metadata": {},
   "outputs": [
    {
     "data": {
      "text/html": [
       "<div>\n",
       "<style scoped>\n",
       "    .dataframe tbody tr th:only-of-type {\n",
       "        vertical-align: middle;\n",
       "    }\n",
       "\n",
       "    .dataframe tbody tr th {\n",
       "        vertical-align: top;\n",
       "    }\n",
       "\n",
       "    .dataframe thead th {\n",
       "        text-align: right;\n",
       "    }\n",
       "</style>\n",
       "<table border=\"1\" class=\"dataframe\">\n",
       "  <thead>\n",
       "    <tr style=\"text-align: right;\">\n",
       "      <th></th>\n",
       "      <th>salary</th>\n",
       "      <th>on-site</th>\n",
       "    </tr>\n",
       "  </thead>\n",
       "  <tbody>\n",
       "    <tr>\n",
       "      <th>count</th>\n",
       "      <td>1171.000000</td>\n",
       "      <td>1171.000000</td>\n",
       "    </tr>\n",
       "    <tr>\n",
       "      <th>mean</th>\n",
       "      <td>64926.131512</td>\n",
       "      <td>0.957301</td>\n",
       "    </tr>\n",
       "    <tr>\n",
       "      <th>std</th>\n",
       "      <td>32528.546705</td>\n",
       "      <td>0.202263</td>\n",
       "    </tr>\n",
       "    <tr>\n",
       "      <th>min</th>\n",
       "      <td>30000.000000</td>\n",
       "      <td>0.000000</td>\n",
       "    </tr>\n",
       "    <tr>\n",
       "      <th>25%</th>\n",
       "      <td>45000.000000</td>\n",
       "      <td>1.000000</td>\n",
       "    </tr>\n",
       "    <tr>\n",
       "      <th>50%</th>\n",
       "      <td>63000.000000</td>\n",
       "      <td>1.000000</td>\n",
       "    </tr>\n",
       "    <tr>\n",
       "      <th>75%</th>\n",
       "      <td>68000.000000</td>\n",
       "      <td>1.000000</td>\n",
       "    </tr>\n",
       "    <tr>\n",
       "      <th>max</th>\n",
       "      <td>228000.000000</td>\n",
       "      <td>1.000000</td>\n",
       "    </tr>\n",
       "  </tbody>\n",
       "</table>\n",
       "</div>"
      ],
      "text/plain": [
       "              salary      on-site\n",
       "count    1171.000000  1171.000000\n",
       "mean    64926.131512     0.957301\n",
       "std     32528.546705     0.202263\n",
       "min     30000.000000     0.000000\n",
       "25%     45000.000000     1.000000\n",
       "50%     63000.000000     1.000000\n",
       "75%     68000.000000     1.000000\n",
       "max    228000.000000     1.000000"
      ]
     },
     "execution_count": 90,
     "metadata": {},
     "output_type": "execute_result"
    }
   ],
   "source": [
    "data.describe()"
   ]
  },
  {
   "cell_type": "code",
   "execution_count": 91,
   "id": "fd0be402",
   "metadata": {},
   "outputs": [
    {
     "data": {
      "text/plain": [
       "<Axes: xlabel='job_title', ylabel='salary'>"
      ]
     },
     "execution_count": 91,
     "metadata": {},
     "output_type": "execute_result"
    },
    {
     "data": {
      "image/png": "[encoded data removed]",
      "text/plain": [
       "<Figure size 640x480 with 1 Axes>"
      ]
     },
     "metadata": {},
     "output_type": "display_data"
    }
   ],
   "source": [
    "sns.barplot(x='job_title',y='salary', data=data)"
   ]
  },
  {
   "cell_type": "markdown",
   "id": "c29e0bde",
   "metadata": {},
   "source": [
    "Those in MLOPs are paid substantialy more than other similar fields"
   ]
  },
  {
   "cell_type": "code",
   "execution_count": 99,
   "id": "81ac0086",
   "metadata": {},
   "outputs": [
    {
     "data": {
      "text/plain": [
       "64926.13"
      ]
     },
     "execution_count": 99,
     "metadata": {},
     "output_type": "execute_result"
    }
   ],
   "source": [
    "# The average payment in all fields in USD\n",
    "data['salary'].mean().round(2)"
   ]
  },
  {
   "cell_type": "code",
   "execution_count": 100,
   "id": "fd9582f7",
   "metadata": {},
   "outputs": [
    {
     "data": {
      "text/plain": [
       "81263.16"
      ]
     },
     "execution_count": 100,
     "metadata": {},
     "output_type": "execute_result"
    }
   ],
   "source": [
    "# The average payment in ML Ops field in USD\n",
    "data[data['job_title']=='ML Ops']['salary'].mean().round(2)"
   ]
  },
  {
   "cell_type": "code",
   "execution_count": 94,
   "id": "6181b29d",
   "metadata": {},
   "outputs": [
    {
     "data": {
      "text/plain": [
       "<Axes: xlabel='job_type', ylabel='salary'>"
      ]
     },
     "execution_count": 94,
     "metadata": {},
     "output_type": "execute_result"
    },
    {
     "data": {
      "image/png": "[encoded data removed]",
      "text/plain": [
       "<Figure size 640x480 with 1 Axes>"
      ]
     },
     "metadata": {},
     "output_type": "display_data"
    }
   ],
   "source": [
    "sns.barplot(x='job_type',y='salary', data=data)"
   ]
  },
  {
   "cell_type": "code",
   "execution_count": 31,
   "id": "1e3661f3",
   "metadata": {},
   "outputs": [
    {
     "data": {
      "text/plain": [
       "<Axes: xlabel='experience_level', ylabel='salary'>"
      ]
     },
     "execution_count": 31,
     "metadata": {},
     "output_type": "execute_result"
    },
    {
     "data": {
      "image/png": "[encoded data removed]",
      "text/plain": [
       "<Figure size 640x480 with 1 Axes>"
      ]
     },
     "metadata": {},
     "output_type": "display_data"
    }
   ],
   "source": [
    "sns.barplot(x='experience_level',y='salary', data=data)"
   ]
  },
  {
   "cell_type": "code",
   "execution_count": 101,
   "id": "c3b67a66",
   "metadata": {
    "scrolled": false
   },
   "outputs": [
    {
     "data": {
      "text/plain": [
       "<Axes: xlabel='on-site', ylabel='salary'>"
      ]
     },
     "execution_count": 101,
     "metadata": {},
     "output_type": "execute_result"
    },
    {
     "data": {
      "image/png": "[encoded data removed]",
      "text/plain": [
       "<Figure size 640x480 with 1 Axes>"
      ]
     },
     "metadata": {},
     "output_type": "display_data"
    }
   ],
   "source": [
    "sns.barplot(x='on-site',y='salary', data=data)"
   ]
  },
  {
   "cell_type": "markdown",
   "id": "75c62574",
   "metadata": {},
   "source": [
    "### Encoding categorical variables"
   ]
  },
  {
   "cell_type": "code",
   "execution_count": 32,
   "id": "05b7780f",
   "metadata": {},
   "outputs": [],
   "source": [
    "def catval(data,col):\n",
    "    data[col]=data[col].astype('category').cat.codes\n",
    "    return data[col]"
   ]
  },
  {
   "cell_type": "code",
   "execution_count": 33,
   "id": "5fdaeb19",
   "metadata": {},
   "outputs": [],
   "source": [
    "data['job_title']=catval(data,'job_title')\n",
    "data['job_type']=catval(data,'job_type')\n",
    "data['experience_level']=catval(data,'experience_level')"
   ]
  },
  {
   "cell_type": "code",
   "execution_count": 34,
   "id": "f67dde89",
   "metadata": {},
   "outputs": [
    {
     "data": {
      "text/plain": [
       "2    394\n",
       "1    368\n",
       "4    289\n",
       "0    101\n",
       "3     19\n",
       "Name: job_title, dtype: int64"
      ]
     },
     "execution_count": 34,
     "metadata": {},
     "output_type": "execute_result"
    }
   ],
   "source": [
    "data['job_title'].value_counts()"
   ]
  },
  {
   "cell_type": "code",
   "execution_count": 35,
   "id": "e35f3f99",
   "metadata": {},
   "outputs": [
    {
     "data": {
      "text/plain": [
       "0    1136\n",
       "1      35\n",
       "Name: job_type, dtype: int64"
      ]
     },
     "execution_count": 35,
     "metadata": {},
     "output_type": "execute_result"
    }
   ],
   "source": [
    "data['job_type'].value_counts()"
   ]
  },
  {
   "cell_type": "code",
   "execution_count": 36,
   "id": "e93f7621",
   "metadata": {},
   "outputs": [
    {
     "data": {
      "text/plain": [
       "3    727\n",
       "2    305\n",
       "0    126\n",
       "1     13\n",
       "Name: experience_level, dtype: int64"
      ]
     },
     "execution_count": 36,
     "metadata": {},
     "output_type": "execute_result"
    }
   ],
   "source": [
    "data['experience_level'].value_counts()"
   ]
  },
  {
   "cell_type": "code",
   "execution_count": 37,
   "id": "e97ef8d6",
   "metadata": {
    "scrolled": true
   },
   "outputs": [
    {
     "data": {
      "text/html": [
       "<div>\n",
       "<style scoped>\n",
       "    .dataframe tbody tr th:only-of-type {\n",
       "        vertical-align: middle;\n",
       "    }\n",
       "\n",
       "    .dataframe tbody tr th {\n",
       "        vertical-align: top;\n",
       "    }\n",
       "\n",
       "    .dataframe thead th {\n",
       "        text-align: right;\n",
       "    }\n",
       "</style>\n",
       "<table border=\"1\" class=\"dataframe\">\n",
       "  <thead>\n",
       "    <tr style=\"text-align: right;\">\n",
       "      <th></th>\n",
       "      <th>job_title</th>\n",
       "      <th>job_type</th>\n",
       "      <th>experience_level</th>\n",
       "      <th>salary</th>\n",
       "      <th>on-site</th>\n",
       "    </tr>\n",
       "  </thead>\n",
       "  <tbody>\n",
       "    <tr>\n",
       "      <th>0</th>\n",
       "      <td>2</td>\n",
       "      <td>0</td>\n",
       "      <td>3</td>\n",
       "      <td>149000.0</td>\n",
       "      <td>1</td>\n",
       "    </tr>\n",
       "    <tr>\n",
       "      <th>1</th>\n",
       "      <td>2</td>\n",
       "      <td>0</td>\n",
       "      <td>3</td>\n",
       "      <td>120000.0</td>\n",
       "      <td>1</td>\n",
       "    </tr>\n",
       "    <tr>\n",
       "      <th>2</th>\n",
       "      <td>2</td>\n",
       "      <td>0</td>\n",
       "      <td>3</td>\n",
       "      <td>68000.0</td>\n",
       "      <td>1</td>\n",
       "    </tr>\n",
       "    <tr>\n",
       "      <th>3</th>\n",
       "      <td>2</td>\n",
       "      <td>0</td>\n",
       "      <td>3</td>\n",
       "      <td>120000.0</td>\n",
       "      <td>1</td>\n",
       "    </tr>\n",
       "    <tr>\n",
       "      <th>4</th>\n",
       "      <td>2</td>\n",
       "      <td>0</td>\n",
       "      <td>3</td>\n",
       "      <td>149000.0</td>\n",
       "      <td>1</td>\n",
       "    </tr>\n",
       "  </tbody>\n",
       "</table>\n",
       "</div>"
      ],
      "text/plain": [
       "   job_title  job_type  experience_level    salary  on-site\n",
       "0          2         0                 3  149000.0        1\n",
       "1          2         0                 3  120000.0        1\n",
       "2          2         0                 3   68000.0        1\n",
       "3          2         0                 3  120000.0        1\n",
       "4          2         0                 3  149000.0        1"
      ]
     },
     "execution_count": 37,
     "metadata": {},
     "output_type": "execute_result"
    }
   ],
   "source": [
    "data.head()"
   ]
  },
  {
   "cell_type": "markdown",
   "id": "356fc82d",
   "metadata": {},
   "source": [
    "### Feature Engineering and model development"
   ]
  },
  {
   "cell_type": "code",
   "execution_count": 38,
   "id": "f334f87a",
   "metadata": {},
   "outputs": [],
   "source": [
    "x=data.drop('salary',axis=1)\n",
    "y=data['salary']"
   ]
  },
  {
   "cell_type": "code",
   "execution_count": 39,
   "id": "91bc5648",
   "metadata": {
    "scrolled": true
   },
   "outputs": [
    {
     "data": {
      "text/plain": [
       "experience_level    0.603825\n",
       "on-site             0.004590\n",
       "Name: MI Scores, dtype: float64"
      ]
     },
     "execution_count": 39,
     "metadata": {},
     "output_type": "execute_result"
    }
   ],
   "source": [
    "from sklearn.feature_selection import mutual_info_regression \n",
    "\n",
    "def make_mi_scores(x, y):\n",
    "    mi_scores = mutual_info_regression(x, y)\n",
    "    mi_scores = pd.Series(mi_scores, name=\"MI Scores\", index=x.columns)\n",
    "    mi_scores = mi_scores.sort_values(ascending=False)\n",
    "    return mi_scores\n",
    "\n",
    "mi_scores = make_mi_scores(x,y)\n",
    "mi_scores[::3]"
   ]
  },
  {
   "cell_type": "code",
   "execution_count": 40,
   "id": "fdbeabfe",
   "metadata": {},
   "outputs": [
    {
     "data": {
      "image/png": "[encoded data removed]",
      "text/plain": [
       "<Figure size 800x500 with 1 Axes>"
      ]
     },
     "metadata": {},
     "output_type": "display_data"
    }
   ],
   "source": [
    "def plot_mi_scores(scores):\n",
    "    scores = scores.sort_values(ascending=True)\n",
    "    width = np.arange(len(scores))\n",
    "    ticks = list(scores.index)\n",
    "    plt.barh(width, scores)\n",
    "    plt.yticks(width, ticks)\n",
    "    plt.title(\"Mutual Information Scores\")\n",
    "\n",
    "\n",
    "plt.figure(dpi=100, figsize=(8, 5))\n",
    "plot_mi_scores(mi_scores)"
   ]
  },
  {
   "cell_type": "markdown",
   "id": "deec3355",
   "metadata": {},
   "source": [
    "The columns which has most impact on the target are the experience level and job title"
   ]
  },
  {
   "cell_type": "code",
   "execution_count": 41,
   "id": "896a370c",
   "metadata": {},
   "outputs": [],
   "source": [
    "x=data.drop(['salary','on-site','job_type'],axis=1)\n",
    "y=data['salary']"
   ]
  },
  {
   "cell_type": "code",
   "execution_count": 42,
   "id": "2c123f2e",
   "metadata": {},
   "outputs": [],
   "source": [
    "x_train,x_test,y_train,y_test=train_test_split(x,y,test_size=0.3, random_state=42)"
   ]
  },
  {
   "cell_type": "code",
   "execution_count": 43,
   "id": "e6c01c1a",
   "metadata": {},
   "outputs": [],
   "source": [
    "model=LinearRegression()"
   ]
  },
  {
   "cell_type": "code",
   "execution_count": 44,
   "id": "9cef6561",
   "metadata": {},
   "outputs": [
    {
     "data": {
      "text/html": [
       "<style>#sk-container-id-1 {color: black;background-color: white;}#sk-container-id-1 pre{padding: 0;}#sk-container-id-1 div.sk-toggleable {background-color: white;}#sk-container-id-1 label.sk-toggleable__label {cursor: pointer;display: block;width: 100%;margin-bottom: 0;padding: 0.3em;box-sizing: border-box;text-align: center;}#sk-container-id-1 label.sk-toggleable__label-arrow:before {content: \"▸\";float: left;margin-right: 0.25em;color: #696969;}#sk-container-id-1 label.sk-toggleable__label-arrow:hover:before {color: black;}#sk-container-id-1 div.sk-estimator:hover label.sk-toggleable__label-arrow:before {color: black;}#sk-container-id-1 div.sk-toggleable__content {max-height: 0;max-width: 0;overflow: hidden;text-align: left;background-color: #f0f8ff;}#sk-container-id-1 div.sk-toggleable__content pre {margin: 0.2em;color: black;border-radius: 0.25em;background-color: #f0f8ff;}#sk-container-id-1 input.sk-toggleable__control:checked~div.sk-toggleable__content {max-height: 200px;max-width: 100%;overflow: auto;}#sk-container-id-1 input.sk-toggleable__control:checked~label.sk-toggleable__label-arrow:before {content: \"▾\";}#sk-container-id-1 div.sk-estimator input.sk-toggleable__control:checked~label.sk-toggleable__label {background-color: #d4ebff;}#sk-container-id-1 div.sk-label input.sk-toggleable__control:checked~label.sk-toggleable__label {background-color: #d4ebff;}#sk-container-id-1 input.sk-hidden--visually {border: 0;clip: rect(1px 1px 1px 1px);clip: rect(1px, 1px, 1px, 1px);height: 1px;margin: -1px;overflow: hidden;padding: 0;position: absolute;width: 1px;}#sk-container-id-1 div.sk-estimator {font-family: monospace;background-color: #f0f8ff;border: 1px dotted black;border-radius: 0.25em;box-sizing: border-box;margin-bottom: 0.5em;}#sk-container-id-1 div.sk-estimator:hover {background-color: #d4ebff;}#sk-container-id-1 div.sk-parallel-item::after {content: \"\";width: 100%;border-bottom: 1px solid gray;flex-grow: 1;}#sk-container-id-1 div.sk-label:hover label.sk-toggleable__label {background-color: #d4ebff;}#sk-container-id-1 div.sk-serial::before {content: \"\";position: absolute;border-left: 1px solid gray;box-sizing: border-box;top: 0;bottom: 0;left: 50%;z-index: 0;}#sk-container-id-1 div.sk-serial {display: flex;flex-direction: column;align-items: center;background-color: white;padding-right: 0.2em;padding-left: 0.2em;position: relative;}#sk-container-id-1 div.sk-item {position: relative;z-index: 1;}#sk-container-id-1 div.sk-parallel {display: flex;align-items: stretch;justify-content: center;background-color: white;position: relative;}#sk-container-id-1 div.sk-item::before, #sk-container-id-1 div.sk-parallel-item::before {content: \"\";position: absolute;border-left: 1px solid gray;box-sizing: border-box;top: 0;bottom: 0;left: 50%;z-index: -1;}#sk-container-id-1 div.sk-parallel-item {display: flex;flex-direction: column;z-index: 1;position: relative;background-color: white;}#sk-container-id-1 div.sk-parallel-item:first-child::after {align-self: flex-end;width: 50%;}#sk-container-id-1 div.sk-parallel-item:last-child::after {align-self: flex-start;width: 50%;}#sk-container-id-1 div.sk-parallel-item:only-child::after {width: 0;}#sk-container-id-1 div.sk-dashed-wrapped {border: 1px dashed gray;margin: 0 0.4em 0.5em 0.4em;box-sizing: border-box;padding-bottom: 0.4em;background-color: white;}#sk-container-id-1 div.sk-label label {font-family: monospace;font-weight: bold;display: inline-block;line-height: 1.2em;}#sk-container-id-1 div.sk-label-container {text-align: center;}#sk-container-id-1 div.sk-container {/* jupyter's `normalize.less` sets `[hidden] { display: none; }` but bootstrap.min.css set `[hidden] { display: none !important; }` so we also need the `!important` here to be able to override the default hidden behavior on the sphinx rendered scikit-learn.org. See: https://github.com/scikit-learn/scikit-learn/issues/21755 */display: inline-block !important;position: relative;}#sk-container-id-1 div.sk-text-repr-fallback {display: none;}</style><div id=\"sk-container-id-1\" class=\"sk-top-container\"><div class=\"sk-text-repr-fallback\"><pre>LinearRegression()</pre><b>In a Jupyter environment, please rerun this cell to show the HTML representation or trust the notebook. <br />On GitHub, the HTML representation is unable to render, please try loading this page with nbviewer.org.</b></div><div class=\"sk-container\" hidden><div class=\"sk-item\"><div class=\"sk-estimator sk-toggleable\"><input class=\"sk-toggleable__control sk-hidden--visually\" id=\"sk-estimator-id-1\" type=\"checkbox\" checked><label for=\"sk-estimator-id-1\" class=\"sk-toggleable__label sk-toggleable__label-arrow\">LinearRegression</label><div class=\"sk-toggleable__content\"><pre>LinearRegression()</pre></div></div></div></div></div>"
      ],
      "text/plain": [
       "LinearRegression()"
      ]
     },
     "execution_count": 44,
     "metadata": {},
     "output_type": "execute_result"
    }
   ],
   "source": [
    "model.fit(x_train,y_train)"
   ]
  },
  {
   "cell_type": "code",
   "execution_count": 45,
   "id": "8a338664",
   "metadata": {},
   "outputs": [],
   "source": [
    "y_pred=model.predict(x_test)"
   ]
  },
  {
   "cell_type": "code",
   "execution_count": 46,
   "id": "207b1a7f",
   "metadata": {},
   "outputs": [
    {
     "data": {
      "text/plain": [
       "26394.57148012666"
      ]
     },
     "execution_count": 46,
     "metadata": {},
     "output_type": "execute_result"
    }
   ],
   "source": [
    "model.intercept_"
   ]
  },
  {
   "cell_type": "code",
   "execution_count": 47,
   "id": "32e9cdc6",
   "metadata": {},
   "outputs": [
    {
     "data": {
      "text/plain": [
       "array([ 2298.52300852, 13580.28367295])"
      ]
     },
     "execution_count": 47,
     "metadata": {},
     "output_type": "execute_result"
    }
   ],
   "source": [
    "model.coef_"
   ]
  },
  {
   "cell_type": "code",
   "execution_count": 48,
   "id": "0cf5f938",
   "metadata": {},
   "outputs": [
    {
     "data": {
      "text/plain": [
       "1115533021.7436943"
      ]
     },
     "execution_count": 48,
     "metadata": {},
     "output_type": "execute_result"
    }
   ],
   "source": [
    "mean_squared_error(y_test,y_pred)"
   ]
  }
 ],
 "metadata": {
  "kernelspec": {
   "display_name": "Python 3 (ipykernel)",
   "language": "python",
   "name": "python3"
  },
  "language_info": {
   "codemirror_mode": {
    "name": "ipython",
    "version": 3
   },
   "file_extension": ".py",
   "mimetype": "text/x-python",
   "name": "python",
   "nbconvert_exporter": "python",
   "pygments_lexer": "ipython3",
   "version": "3.11.2"
  }
 },
 "nbformat": 4,
 "nbformat_minor": 5
}
